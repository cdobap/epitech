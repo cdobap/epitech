{
 "cells": [
  {
   "cell_type": "code",
   "execution_count": 4,
   "id": "8385b99b",
   "metadata": {},
   "outputs": [],
   "source": [
    "import requests\n",
    "from bs4 import BeautifulSoup"
   ]
  },
  {
   "cell_type": "code",
   "execution_count": 5,
   "id": "7775f7c8",
   "metadata": {},
   "outputs": [],
   "source": [
    "def scrapReuters():\n",
    "    r = requests.get('https://www.reuters.com/markets') \n",
    "    # success code - 200\n",
    "    print(r) \n",
    "    # Parsing the HTML\n",
    "    soup = BeautifulSoup(r.content, 'html.parser')\n",
    "    #soup.prettify()\n",
    "    topnews = soup.find_all(\"div\", class_=\"moduleBody\")\n",
    "\n",
    "    souptitles = BeautifulSoup(str(topnews), 'html.parser')\n",
    "    titles = souptitles.find_all(\"a\")\n",
    "\n",
    "    titlesList = []\n",
    "    for title in titles:\n",
    "        if str(title.contents)[:5] == '[<img':\n",
    "            print('-')\n",
    "        else:\n",
    "            t = ''.join(map(str, title.contents))\n",
    "            titlesList.append(t)\n",
    "            #print(title.contents)\n",
    "    print(titlesList)"
   ]
  },
  {
   "cell_type": "code",
   "execution_count": 6,
   "id": "52d04d6d",
   "metadata": {},
   "outputs": [
    {
     "name": "stdout",
     "output_type": "stream",
     "text": [
      "<Response [200]>\n",
      "-\n",
      "['Factories struggling as supply constraints hit, costs rise', 'Futures slip ahead of inflation, factory activity data', \"Taiwan questions China's suitability for Pacific trade pact, fears 'obstruction'\", \"U.S. trade chief Tai to unveil Biden's China trade strategy on Monday\", 'Stocks head into stormy October, dollar defies ugly mood', 'EU may approve Polish, Hungarian spending plans - with conditions - officials']\n"
     ]
    }
   ],
   "source": [
    "scrapReuters()"
   ]
  },
  {
   "cell_type": "code",
   "execution_count": null,
   "id": "9398c577",
   "metadata": {},
   "outputs": [],
   "source": []
  }
 ],
 "metadata": {
  "kernelspec": {
   "display_name": "Python 3",
   "language": "python",
   "name": "python3"
  },
  "language_info": {
   "codemirror_mode": {
    "name": "ipython",
    "version": 3
   },
   "file_extension": ".py",
   "mimetype": "text/x-python",
   "name": "python",
   "nbconvert_exporter": "python",
   "pygments_lexer": "ipython3",
   "version": "3.8.8"
  }
 },
 "nbformat": 4,
 "nbformat_minor": 5
}
