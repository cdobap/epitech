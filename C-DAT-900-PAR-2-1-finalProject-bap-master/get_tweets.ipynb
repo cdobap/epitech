{
 "cells": [
  {
   "cell_type": "code",
   "execution_count": 1,
   "id": "5b1af402",
   "metadata": {},
   "outputs": [],
   "source": [
    "import tweepy\n",
    "import pandas as pd"
   ]
  },
  {
   "cell_type": "code",
   "execution_count": 2,
   "id": "a0d38574",
   "metadata": {},
   "outputs": [],
   "source": [
    "consumer_key = \"\" \n",
    "consumer_secret = \"\"\n",
    "access_key = \"\"\n",
    "access_secret = \"\""
   ]
  },
  {
   "cell_type": "code",
   "execution_count": 3,
   "id": "eb298a38",
   "metadata": {},
   "outputs": [],
   "source": [
    "auth = tweepy.OAuthHandler(consumer_key, consumer_secret)\n",
    "auth.set_access_token(access_key, access_secret)\n",
    "\n",
    "api = tweepy.API(auth)"
   ]
  },
  {
   "cell_type": "code",
   "execution_count": 4,
   "id": "465e2171",
   "metadata": {},
   "outputs": [],
   "source": [
    "datetime = []\n",
    "username = []\n",
    "text = []\n",
    "\n",
    "for status in tweepy.Cursor(api.user_timeline, screen_name='@', tweet_mode=\"extended\").items():\n",
    "    datetime.append(status.created_at)\n",
    "    username.append(status.user.screen_name)\n",
    "    text.append(status.full_text)\n",
    "    \n",
    "data = {'datetime': datetime,\n",
    "       'username': username,\n",
    "       'text': text}\n",
    "\n",
    "df = pd.DataFrame(data)"
   ]
  },
  {
   "cell_type": "code",
   "execution_count": null,
   "id": "2ed1084d",
   "metadata": {},
   "outputs": [],
   "source": []
  },
  {
   "cell_type": "code",
   "execution_count": 6,
   "id": "3a4a0958",
   "metadata": {},
   "outputs": [],
   "source": [
    "datetime = []\n",
    "username = []\n",
    "text = []\n",
    "\n",
    "for status in tweepy.Cursor(api.user_timeline, screen_name='@FT', tweet_mode=\"extended\").items():\n",
    "    datetime.append(status.created_at)\n",
    "    username.append(status.user.screen_name)\n",
    "    text.append(status.full_text)\n",
    "    \n",
    "data = {'datetime': datetime,\n",
    "       'username': username,\n",
    "       'text': text}\n",
    "\n",
    "df_ft = pd.DataFrame(data)\n"
   ]
  },
  {
   "cell_type": "code",
   "execution_count": null,
   "id": "4e8c9313",
   "metadata": {},
   "outputs": [],
   "source": []
  },
  {
   "cell_type": "code",
   "execution_count": 8,
   "id": "ad6b4adf",
   "metadata": {},
   "outputs": [],
   "source": [
    "datetime = []\n",
    "username = []\n",
    "text = []\n",
    "\n",
    "for status in tweepy.Cursor(api.user_timeline, screen_name='@D', tweet_mode=\"extended\").items():\n",
    "    datetime.append(status.created_at)\n",
    "    username.append(status.user.screen_name)\n",
    "    text.append(status.full_text)\n",
    "    \n",
    "data = {'datetime': datetime,\n",
    "       'username': username,\n",
    "       'text': text}\n",
    "\n",
    "df_e = pd.DataFrame(data)\n"
   ]
  },
  {
   "cell_type": "code",
   "execution_count": null,
   "id": "4968a5a3",
   "metadata": {},
   "outputs": [],
   "source": []
  },
  {
   "cell_type": "code",
   "execution_count": 10,
   "id": "9e85eeaa",
   "metadata": {},
   "outputs": [],
   "source": [
    "datetime = []\n",
    "username = []\n",
    "text = []\n",
    "\n",
    "for status in tweepy.Cursor(api.user_timeline, screen_name='@Yahoo', tweet_mode=\"extended\").items():\n",
    "    datetime.append(status.created_at)\n",
    "    username.append(status.user.screen_name)\n",
    "    text.append(status.full_text)\n",
    "    \n",
    "data = {'datetime': datetime,\n",
    "       'username': username,\n",
    "       'text': text}\n",
    "\n",
    "df_y = pd.DataFrame(data)\n"
   ]
  },
  {
   "cell_type": "code",
   "execution_count": null,
   "id": "91ffe8f0",
   "metadata": {},
   "outputs": [],
   "source": []
  },
  {
   "cell_type": "code",
   "execution_count": 32,
   "id": "1106c993",
   "metadata": {},
   "outputs": [],
   "source": [
    "datetime = []\n",
    "username = []\n",
    "text = []\n",
    "\n",
    "for status in tweepy.Cursor(api.user_timeline, screen_name='@F', tweet_mode=\"extended\").items():\n",
    "    datetime.append(status.created_at)\n",
    "    username.append(status.user.screen_name)\n",
    "    text.append(status.full_text)\n",
    "    \n",
    "data = {'datetime': datetime,\n",
    "       'username': username,\n",
    "       'text': text}\n",
    "\n",
    "df_f = pd.DataFrame(data)\n"
   ]
  },
  {
   "cell_type": "code",
   "execution_count": null,
   "id": "5d70b708",
   "metadata": {},
   "outputs": [],
   "source": []
  },
  {
   "cell_type": "code",
   "execution_count": 14,
   "id": "0e482018",
   "metadata": {},
   "outputs": [],
   "source": [
    "datetime = []\n",
    "username = []\n",
    "text = []\n",
    "\n",
    "for status in tweepy.Cursor(api.user_timeline, screen_name='@e', tweet_mode=\"extended\").items():\n",
    "    datetime.append(status.created_at)\n",
    "    username.append(status.user.screen_name)\n",
    "    text.append(status.full_text)\n",
    "    \n",
    "data = {'datetime': datetime,\n",
    "       'username': username,\n",
    "       'text': text}\n",
    "\n",
    "df_b = pd.DataFrame(data)\n"
   ]
  },
  {
   "cell_type": "code",
   "execution_count": null,
   "id": "49092cc4",
   "metadata": {},
   "outputs": [],
   "source": []
  },
  {
   "cell_type": "code",
   "execution_count": 17,
   "id": "6757c34e",
   "metadata": {},
   "outputs": [],
   "source": [
    "datetime = []\n",
    "username = []\n",
    "text = []\n",
    "\n",
    "for status in tweepy.Cursor(api.user_timeline, screen_name='@WS', tweet_mode=\"extended\").items():\n",
    "    datetime.append(status.created_at)\n",
    "    username.append(status.user.screen_name)\n",
    "    text.append(status.full_text)\n",
    "    \n",
    "data = {'datetime': datetime,\n",
    "       'username': username,\n",
    "       'text': text}\n",
    "\n",
    "df_ws = pd.DataFrame(data)\n"
   ]
  },
  {
   "cell_type": "code",
   "execution_count": null,
   "id": "da749353",
   "metadata": {},
   "outputs": [],
   "source": []
  },
  {
   "cell_type": "code",
   "execution_count": 19,
   "id": "2903007f",
   "metadata": {},
   "outputs": [],
   "source": [
    "datetime = []\n",
    "username = []\n",
    "text = []\n",
    "\n",
    "for status in tweepy.Cursor(api.user_timeline, screen_name='@M', tweet_mode=\"extended\").items():\n",
    "    datetime.append(status.created_at)\n",
    "    username.append(status.user.screen_name)\n",
    "    text.append(status.full_text)\n",
    "    \n",
    "data = {'datetime': datetime,\n",
    "       'username': username,\n",
    "       'text': text}\n",
    "\n",
    "df_m = pd.DataFrame(data)\n"
   ]
  },
  {
   "cell_type": "code",
   "execution_count": null,
   "id": "45d64578",
   "metadata": {},
   "outputs": [],
   "source": []
  },
  {
   "cell_type": "code",
   "execution_count": 21,
   "id": "9f37ba07",
   "metadata": {},
   "outputs": [],
   "source": [
    "datetime = []\n",
    "username = []\n",
    "text = []\n",
    "\n",
    "for status in tweepy.Cursor(api.user_timeline, screen_name='@T', tweet_mode=\"extended\").items():\n",
    "    datetime.append(status.created_at)\n",
    "    username.append(status.user.screen_name)\n",
    "    text.append(status.full_text)\n",
    "    \n",
    "data = {'datetime': datetime,\n",
    "       'username': username,\n",
    "       'text': text}\n",
    "\n",
    "df_t = pd.DataFrame(data)\n"
   ]
  },
  {
   "cell_type": "code",
   "execution_count": null,
   "id": "b8cc51c3",
   "metadata": {},
   "outputs": [],
   "source": []
  },
  {
   "cell_type": "code",
   "execution_count": 23,
   "id": "104dc147",
   "metadata": {},
   "outputs": [],
   "source": [
    "datetime = []\n",
    "username = []\n",
    "text = []\n",
    "\n",
    "for status in tweepy.Cursor(api.user_timeline, screen_name='@W', tweet_mode=\"extended\").items():\n",
    "    datetime.append(status.created_at)\n",
    "    username.append(status.user.screen_name)\n",
    "    text.append(status.full_text)\n",
    "    \n",
    "data = {'datetime': datetime,\n",
    "       'username': username,\n",
    "       'text': text}\n",
    "\n",
    "df_w = pd.DataFrame(data)\n"
   ]
  },
  {
   "cell_type": "code",
   "execution_count": null,
   "id": "ddceabe6",
   "metadata": {},
   "outputs": [],
   "source": []
  },
  {
   "cell_type": "code",
   "execution_count": 25,
   "id": "cc16bb95",
   "metadata": {},
   "outputs": [],
   "source": [
    "datetime = []\n",
    "username = []\n",
    "text = []\n",
    "\n",
    "for status in tweepy.Cursor(api.user_timeline, screen_name='@R', tweet_mode=\"extended\").items():\n",
    "    datetime.append(status.created_at)\n",
    "    username.append(status.user.screen_name)\n",
    "    text.append(status.full_text)\n",
    "    \n",
    "data = {'datetime': datetime,\n",
    "       'username': username,\n",
    "       'text': text}\n",
    "\n",
    "df_r = pd.DataFrame(data)\n"
   ]
  },
  {
   "cell_type": "code",
   "execution_count": null,
   "id": "428f0aec",
   "metadata": {},
   "outputs": [],
   "source": []
  },
  {
   "cell_type": "code",
   "execution_count": 28,
   "id": "f2111bf3",
   "metadata": {},
   "outputs": [],
   "source": [
    "datetime = []\n",
    "username = []\n",
    "text = []\n",
    "\n",
    "for status in tweepy.Cursor(api.user_timeline, screen_name='@C', tweet_mode=\"extended\").items():\n",
    "    datetime.append(status.created_at)\n",
    "    username.append(status.user.screen_name)\n",
    "    text.append(status.full_text)\n",
    "    \n",
    "data = {'datetime': datetime,\n",
    "       'username': username,\n",
    "       'text': text}\n",
    "\n",
    "df_c = pd.DataFrame(data)\n"
   ]
  },
  {
   "cell_type": "code",
   "execution_count": null,
   "id": "cfa1f4c5",
   "metadata": {},
   "outputs": [],
   "source": []
  },
  {
   "cell_type": "code",
   "execution_count": 30,
   "id": "c0be4f97",
   "metadata": {},
   "outputs": [],
   "source": [
    "datetime = []\n",
    "username = []\n",
    "text = []\n",
    "\n",
    "for status in tweepy.Cursor(api.user_timeline, screen_name='@I', tweet_mode=\"extended\").items():\n",
    "    datetime.append(status.created_at)\n",
    "    username.append(status.user.screen_name)\n",
    "    text.append(status.full_text)\n",
    "    \n",
    "data = {'datetime': datetime,\n",
    "       'username': username,\n",
    "       'text': text}\n",
    "\n",
    "df_i = pd.DataFrame(data)\n"
   ]
  },
  {
   "cell_type": "code",
   "execution_count": null,
   "id": "5b461b0c",
   "metadata": {},
   "outputs": [],
   "source": []
  },
  {
   "cell_type": "code",
   "execution_count": null,
   "id": "41690a4c",
   "metadata": {},
   "outputs": [],
   "source": [
    "frames = [df1, df2, df3, df4,...]\n",
    "\n",
    "result = pd.concat(frames)"
   ]
  },
  {
   "cell_type": "code",
   "execution_count": null,
   "id": "1a65ed5a",
   "metadata": {},
   "outputs": [],
   "source": []
  },
  {
   "cell_type": "code",
   "execution_count": 35,
   "id": "741325ea",
   "metadata": {},
   "outputs": [],
   "source": [
    "filename = 'dataset_tweets.csv'\n",
    "result.to_csv(filename)\n"
   ]
  },
  {
   "cell_type": "code",
   "execution_count": null,
   "id": "731c611f",
   "metadata": {},
   "outputs": [],
   "source": []
  }
 ],
 "metadata": {
  "kernelspec": {
   "display_name": "Python 3",
   "language": "python",
   "name": "python3"
  },
  "language_info": {
   "codemirror_mode": {
    "name": "ipython",
    "version": 3
   },
   "file_extension": ".py",
   "mimetype": "text/x-python",
   "name": "python",
   "nbconvert_exporter": "python",
   "pygments_lexer": "ipython3",
   "version": "3.8.8"
  }
 },
 "nbformat": 4,
 "nbformat_minor": 5
}
