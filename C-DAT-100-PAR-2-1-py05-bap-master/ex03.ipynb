{
 "cells": [
  {
   "cell_type": "code",
   "execution_count": 1,
   "id": "15c67e76",
   "metadata": {},
   "outputs": [],
   "source": [
    "import pandas as pd\n",
    "import seaborn as sns\n",
    "import matplotlib.pyplot as plt\n",
    "import ipywidgets as widgets\n",
    "from IPython.display import display\n",
    "import requests as rq\n",
    "from __future__ import print_function\n",
    "from ipywidgets import Select, IntSlider, IntRangeSlider, Dropdown, Layout, interact, interactive, fixed, interact_manual"
   ]
  },
  {
   "cell_type": "markdown",
   "id": "8c7cbd81",
   "metadata": {},
   "source": []
  },
  {
   "cell_type": "code",
   "execution_count": 3,
   "id": "54c13f4a",
   "metadata": {
    "scrolled": false
   },
   "outputs": [
    {
     "data": {
      "application/vnd.jupyter.widget-view+json": {
       "model_id": "6c70d9069b4d491c852beaf0b445f63d",
       "version_major": 2,
       "version_minor": 0
      },
      "text/plain": [
       "VBox(children=(IntSlider(value=13, description='departement:', layout=Layout(grid_area='main', width='auto'), …"
      ]
     },
     "metadata": {},
     "output_type": "display_data"
    },
    {
     "data": {
      "application/vnd.jupyter.widget-view+json": {
       "model_id": "f04cddc340124a78b4da42b6669c7883",
       "version_major": 2,
       "version_minor": 0
      },
      "text/plain": [
       "Output()"
      ]
     },
     "metadata": {},
     "output_type": "display_data"
    }
   ],
   "source": [
    "response = rq.get(\"http://127.0.0.1:5000/towns/13\")\n",
    "data = response.json()\n",
    "datas_towns = []\n",
    "for i in data[\"0\"].values():\n",
    "    if str(i) != \"None\":\n",
    "        #print(str(i))\n",
    "        datas_towns.append(i)\n",
    "#datas_towns\n",
    "\n",
    "    \n",
    "def f(dep, towns, pieces, sq):\n",
    "    response = rq.get(\"http://127.0.0.1:5000/prices/departments/\" + str(dep) +\"/towns/\"+towns+\"?room_min=\"+str(pieces[0])+\"&room_max=\"+str(pieces[1])+\"&sq_min=\"+str(sq[0])+\"&sq_max=\"+str(sq[1]))\n",
    "    data = response.json()\n",
    "    datas = []\n",
    "    for i in data[\"Valeur fonciere\"].values():\n",
    "        if str(i) != \"None\":\n",
    "            datas.append(int(str(i)[:-4]))\n",
    "    d = pd.DataFrame(datas)\n",
    "    ax = sns.boxplot(x=d[0])\n",
    "    plt.show(ax)\n",
    "    return  \n",
    "\n",
    "dep = IntSlider(min=1, max=44, step=1, value=13,\n",
    "                    description='departement:',\n",
    "                    layout=Layout(width='auto', grid_area='main'))\n",
    "towns = Select(\n",
    "            options=datas_towns,\n",
    "            description='villes:',\n",
    "            disabled=False,\n",
    "            layout=Layout(width='auto', grid_area='towns'),\n",
    "        )\n",
    "\n",
    "pieces  = IntRangeSlider(\n",
    "                value=[1, 10],\n",
    "                min=1,\n",
    "                max=10,\n",
    "                step=1,\n",
    "                description='pièces:',\n",
    "                disabled=False,\n",
    "                continuous_update=False,\n",
    "                orientation='horizontal',\n",
    "                readout=True,\n",
    "                readout_format='d',\n",
    "                layout=Layout(width='auto', grid_area='room'),\n",
    "            )\n",
    "\n",
    "sq  = IntRangeSlider(\n",
    "                value=[1, 500],\n",
    "                min=1,\n",
    "                max=500,\n",
    "                step=1,\n",
    "                description='surface:',\n",
    "                disabled=False,\n",
    "                continuous_update=False,\n",
    "                orientation='horizontal',\n",
    "                readout=True,\n",
    "                readout_format='d',\n",
    "                layout=Layout(width='auto', grid_area='sq'),\n",
    "            )\n",
    "\n",
    "ui = widgets.VBox([dep, towns, pieces, sq])\n",
    "out = widgets.interactive_output(f, {'dep': dep, 'towns': towns, 'pieces': pieces, 'sq': sq})\n",
    "\n",
    "display(ui, out)"
   ]
  }
 ],
 "metadata": {
  "kernelspec": {
   "display_name": "Python 3",
   "language": "python",
   "name": "python3"
  },
  "language_info": {
   "codemirror_mode": {
    "name": "ipython",
    "version": 3
   },
   "file_extension": ".py",
   "mimetype": "text/x-python",
   "name": "python",
   "nbconvert_exporter": "python",
   "pygments_lexer": "ipython3",
   "version": "3.8.8"
  }
 },
 "nbformat": 4,
 "nbformat_minor": 5
}
