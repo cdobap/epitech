{
 "cells": [
  {
   "cell_type": "code",
   "execution_count": 1,
   "id": "9f8405f4",
   "metadata": {},
   "outputs": [],
   "source": [
    "import tensorflow as tf\n",
    "import numpy as np\n"
   ]
  },
  {
   "cell_type": "code",
   "execution_count": 2,
   "id": "954159f2",
   "metadata": {},
   "outputs": [],
   "source": [
    "fashion_mnist = tf.keras.datasets.fashion_mnist\n",
    "\n",
    "(train_images, train_labels), (test_images, test_labels) = fashion_mnist.load_data()\n"
   ]
  },
  {
   "cell_type": "code",
   "execution_count": 3,
   "id": "6eea9d72",
   "metadata": {},
   "outputs": [],
   "source": [
    "model = tf.keras.Sequential()\n",
    "\n",
    "model.add(tf.keras.layers.Flatten(input_shape=(28, 28)))\n",
    "model.add(tf.keras.layers.experimental.preprocessing.Rescaling(scale=1.0/255))\n",
    "model.add(tf.keras.layers.Dense(128, activation='relu'))\n",
    "model.add(tf.keras.layers.Dense(128, activation='relu'))\n",
    "model.add(tf.keras.layers.Dense(128, activation='relu'))\n",
    "model.add(tf.keras.layers.Dense(10, activation='softmax'))"
   ]
  },
  {
   "cell_type": "code",
   "execution_count": 4,
   "id": "a714a51f",
   "metadata": {},
   "outputs": [],
   "source": [
    "model.compile(optimizer=tf.keras.optimizers.Adam(learning_rate=0.001, name='Adam'),\n",
    "              loss=tf.keras.losses.SparseCategoricalCrossentropy(),\n",
    "              metrics=['sparse_categorical_accuracy'])\n"
   ]
  },
  {
   "cell_type": "code",
   "execution_count": 5,
   "id": "e4dc4acf",
   "metadata": {},
   "outputs": [
    {
     "name": "stdout",
     "output_type": "stream",
     "text": [
      "Epoch 1/50\n",
      "1875/1875 [==============================] - 3s 2ms/step - loss: 0.4941 - sparse_categorical_accuracy: 0.8220\n",
      "Epoch 2/50\n",
      "1875/1875 [==============================] - 3s 2ms/step - loss: 0.3656 - sparse_categorical_accuracy: 0.8660\n",
      "Epoch 3/50\n",
      "1875/1875 [==============================] - 3s 2ms/step - loss: 0.3330 - sparse_categorical_accuracy: 0.8760\n",
      "Epoch 4/50\n",
      "1875/1875 [==============================] - 3s 2ms/step - loss: 0.3110 - sparse_categorical_accuracy: 0.8851\n",
      "Epoch 5/50\n",
      "1875/1875 [==============================] - 3s 2ms/step - loss: 0.2913 - sparse_categorical_accuracy: 0.8905\n",
      "Epoch 6/50\n",
      "1875/1875 [==============================] - 3s 2ms/step - loss: 0.2764 - sparse_categorical_accuracy: 0.8965\n",
      "Epoch 7/50\n",
      "1875/1875 [==============================] - 3s 2ms/step - loss: 0.2662 - sparse_categorical_accuracy: 0.8991\n",
      "Epoch 8/50\n",
      "1875/1875 [==============================] - 3s 2ms/step - loss: 0.2533 - sparse_categorical_accuracy: 0.9041\n",
      "Epoch 9/50\n",
      "1875/1875 [==============================] - 3s 2ms/step - loss: 0.2438 - sparse_categorical_accuracy: 0.9077\n",
      "Epoch 10/50\n",
      "1875/1875 [==============================] - 3s 2ms/step - loss: 0.2369 - sparse_categorical_accuracy: 0.9108\n",
      "Epoch 11/50\n",
      "1875/1875 [==============================] - 3s 2ms/step - loss: 0.2263 - sparse_categorical_accuracy: 0.9139\n",
      "Epoch 12/50\n",
      "1875/1875 [==============================] - 3s 2ms/step - loss: 0.2220 - sparse_categorical_accuracy: 0.9147\n",
      "Epoch 13/50\n",
      "1875/1875 [==============================] - 3s 2ms/step - loss: 0.2113 - sparse_categorical_accuracy: 0.9201\n",
      "Epoch 14/50\n",
      "1875/1875 [==============================] - 3s 2ms/step - loss: 0.2059 - sparse_categorical_accuracy: 0.9211\n",
      "Epoch 15/50\n",
      "1875/1875 [==============================] - 3s 2ms/step - loss: 0.2022 - sparse_categorical_accuracy: 0.9221\n",
      "Epoch 16/50\n",
      "1875/1875 [==============================] - 3s 2ms/step - loss: 0.1929 - sparse_categorical_accuracy: 0.9255\n",
      "Epoch 17/50\n",
      "1875/1875 [==============================] - 3s 2ms/step - loss: 0.1873 - sparse_categorical_accuracy: 0.9283\n",
      "Epoch 18/50\n",
      "1875/1875 [==============================] - 3s 2ms/step - loss: 0.1840 - sparse_categorical_accuracy: 0.9295\n",
      "Epoch 19/50\n",
      "1875/1875 [==============================] - 3s 2ms/step - loss: 0.1787 - sparse_categorical_accuracy: 0.9306\n",
      "Epoch 20/50\n",
      "1875/1875 [==============================] - 3s 1ms/step - loss: 0.1755 - sparse_categorical_accuracy: 0.9323\n",
      "Epoch 21/50\n",
      "1875/1875 [==============================] - 3s 2ms/step - loss: 0.1717 - sparse_categorical_accuracy: 0.9336\n",
      "Epoch 22/50\n",
      "1875/1875 [==============================] - 3s 2ms/step - loss: 0.1672 - sparse_categorical_accuracy: 0.9362\n",
      "Epoch 23/50\n",
      "1875/1875 [==============================] - 3s 2ms/step - loss: 0.1601 - sparse_categorical_accuracy: 0.9384\n",
      "Epoch 24/50\n",
      "1875/1875 [==============================] - 3s 2ms/step - loss: 0.1595 - sparse_categorical_accuracy: 0.9384\n",
      "Epoch 25/50\n",
      "1875/1875 [==============================] - 3s 2ms/step - loss: 0.1545 - sparse_categorical_accuracy: 0.9401\n",
      "Epoch 26/50\n",
      "1875/1875 [==============================] - 3s 2ms/step - loss: 0.1542 - sparse_categorical_accuracy: 0.9405\n",
      "Epoch 27/50\n",
      "1875/1875 [==============================] - 3s 2ms/step - loss: 0.1478 - sparse_categorical_accuracy: 0.9431\n",
      "Epoch 28/50\n",
      "1875/1875 [==============================] - 3s 2ms/step - loss: 0.1434 - sparse_categorical_accuracy: 0.9450\n",
      "Epoch 29/50\n",
      "1875/1875 [==============================] - 3s 2ms/step - loss: 0.1445 - sparse_categorical_accuracy: 0.9448\n",
      "Epoch 30/50\n",
      "1875/1875 [==============================] - 4s 2ms/step - loss: 0.1414 - sparse_categorical_accuracy: 0.9449\n",
      "Epoch 31/50\n",
      "1875/1875 [==============================] - 4s 2ms/step - loss: 0.1378 - sparse_categorical_accuracy: 0.9464\n",
      "Epoch 32/50\n",
      "1875/1875 [==============================] - 5s 2ms/step - loss: 0.1336 - sparse_categorical_accuracy: 0.9488\n",
      "Epoch 33/50\n",
      "1875/1875 [==============================] - 4s 2ms/step - loss: 0.1316 - sparse_categorical_accuracy: 0.9496\n",
      "Epoch 34/50\n",
      "1875/1875 [==============================] - 4s 2ms/step - loss: 0.1309 - sparse_categorical_accuracy: 0.9506\n",
      "Epoch 35/50\n",
      "1875/1875 [==============================] - 3s 2ms/step - loss: 0.1238 - sparse_categorical_accuracy: 0.9514\n",
      "Epoch 36/50\n",
      "1875/1875 [==============================] - 4s 2ms/step - loss: 0.1288 - sparse_categorical_accuracy: 0.9514\n",
      "Epoch 37/50\n",
      "1875/1875 [==============================] - 4s 2ms/step - loss: 0.1221 - sparse_categorical_accuracy: 0.9534\n",
      "Epoch 38/50\n",
      "1875/1875 [==============================] - 4s 2ms/step - loss: 0.1217 - sparse_categorical_accuracy: 0.9522\n",
      "Epoch 39/50\n",
      "1875/1875 [==============================] - 4s 2ms/step - loss: 0.1177 - sparse_categorical_accuracy: 0.9550\n",
      "Epoch 40/50\n",
      "1875/1875 [==============================] - 4s 2ms/step - loss: 0.1149 - sparse_categorical_accuracy: 0.9559\n",
      "Epoch 41/50\n",
      "1875/1875 [==============================] - 4s 2ms/step - loss: 0.1163 - sparse_categorical_accuracy: 0.9548\n",
      "Epoch 42/50\n",
      "1875/1875 [==============================] - 4s 2ms/step - loss: 0.1119 - sparse_categorical_accuracy: 0.9570\n",
      "Epoch 43/50\n",
      "1875/1875 [==============================] - 4s 2ms/step - loss: 0.1118 - sparse_categorical_accuracy: 0.9575\n",
      "Epoch 44/50\n",
      "1875/1875 [==============================] - 4s 2ms/step - loss: 0.1102 - sparse_categorical_accuracy: 0.9579\n",
      "Epoch 45/50\n",
      "1875/1875 [==============================] - 4s 2ms/step - loss: 0.1053 - sparse_categorical_accuracy: 0.9592\n",
      "Epoch 46/50\n",
      "1875/1875 [==============================] - 4s 2ms/step - loss: 0.1056 - sparse_categorical_accuracy: 0.9587\n",
      "Epoch 47/50\n",
      "1875/1875 [==============================] - 4s 2ms/step - loss: 0.1088 - sparse_categorical_accuracy: 0.9589\n",
      "Epoch 48/50\n",
      "1875/1875 [==============================] - 4s 2ms/step - loss: 0.0999 - sparse_categorical_accuracy: 0.9621\n",
      "Epoch 49/50\n",
      "1875/1875 [==============================] - 4s 2ms/step - loss: 0.1022 - sparse_categorical_accuracy: 0.9614\n",
      "Epoch 50/50\n",
      "1875/1875 [==============================] - 4s 2ms/step - loss: 0.1019 - sparse_categorical_accuracy: 0.9620\n"
     ]
    },
    {
     "data": {
      "text/plain": [
       "<tensorflow.python.keras.callbacks.History at 0x265c09a8ee0>"
      ]
     },
     "execution_count": 5,
     "metadata": {},
     "output_type": "execute_result"
    }
   ],
   "source": [
    "model.fit(train_images, train_labels, epochs=50)\n"
   ]
  },
  {
   "cell_type": "code",
   "execution_count": 6,
   "id": "de24ce37",
   "metadata": {},
   "outputs": [
    {
     "name": "stdout",
     "output_type": "stream",
     "text": [
      "313/313 - 0s - loss: 0.5766 - sparse_categorical_accuracy: 0.8937\n"
     ]
    }
   ],
   "source": [
    "test_loss, test_acc = model.evaluate(test_images,  test_labels, verbose=2)\n"
   ]
  },
  {
   "cell_type": "code",
   "execution_count": null,
   "id": "40b6a749",
   "metadata": {},
   "outputs": [],
   "source": []
  }
 ],
 "metadata": {
  "kernelspec": {
   "display_name": "Python 3",
   "language": "python",
   "name": "python3"
  },
  "language_info": {
   "codemirror_mode": {
    "name": "ipython",
    "version": 3
   },
   "file_extension": ".py",
   "mimetype": "text/x-python",
   "name": "python",
   "nbconvert_exporter": "python",
   "pygments_lexer": "ipython3",
   "version": "3.8.8"
  }
 },
 "nbformat": 4,
 "nbformat_minor": 5
}
