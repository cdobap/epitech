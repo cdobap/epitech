{
 "cells": [
  {
   "cell_type": "code",
   "execution_count": 1,
   "id": "0b5c4394",
   "metadata": {},
   "outputs": [],
   "source": [
    "import tensorflow as tf\n",
    "import numpy as np\n"
   ]
  },
  {
   "cell_type": "code",
   "execution_count": 2,
   "id": "49f8f724",
   "metadata": {},
   "outputs": [],
   "source": [
    "fashion_mnist = tf.keras.datasets.fashion_mnist\n",
    "\n",
    "(train_images, train_labels), (test_images, test_labels) = fashion_mnist.load_data()\n"
   ]
  },
  {
   "cell_type": "code",
   "execution_count": 3,
   "id": "ed8c9d10",
   "metadata": {},
   "outputs": [],
   "source": [
    "#train_labels = tf.keras.utils.to_categorical(train_labels, 10)"
   ]
  },
  {
   "cell_type": "code",
   "execution_count": 4,
   "id": "44175358",
   "metadata": {},
   "outputs": [],
   "source": [
    "model = tf.keras.Sequential()\n",
    "\n",
    "model.add(tf.keras.layers.Flatten(input_shape=(28, 28)))\n",
    "model.add(tf.keras.layers.experimental.preprocessing.Rescaling(scale=1.0/255))\n",
    "model.add(tf.keras.layers.Dense(64, activation='relu'))\n",
    "model.add(tf.keras.layers.Dense(64, activation='relu'))\n",
    "model.add(tf.keras.layers.Dense(10, activation='softmax'))"
   ]
  },
  {
   "cell_type": "code",
   "execution_count": 5,
   "id": "f1642313",
   "metadata": {},
   "outputs": [],
   "source": [
    "model.compile(optimizer=tf.keras.optimizers.Adam(learning_rate=0.001, name='Adam'),\n",
    "              loss=tf.keras.losses.SparseCategoricalCrossentropy(),\n",
    "              metrics=['sparse_categorical_accuracy'])\n"
   ]
  },
  {
   "cell_type": "code",
   "execution_count": 6,
   "id": "6ad2e97e",
   "metadata": {},
   "outputs": [
    {
     "name": "stdout",
     "output_type": "stream",
     "text": [
      "Epoch 1/30\n",
      "1875/1875 [==============================] - 2s 1ms/step - loss: 0.5145 - sparse_categorical_accuracy: 0.8178\n",
      "Epoch 2/30\n",
      "1875/1875 [==============================] - 2s 1ms/step - loss: 0.3802 - sparse_categorical_accuracy: 0.8611\n",
      "Epoch 3/30\n",
      "1875/1875 [==============================] - 2s 951us/step - loss: 0.3442 - sparse_categorical_accuracy: 0.8739\n",
      "Epoch 4/30\n",
      "1875/1875 [==============================] - 2s 946us/step - loss: 0.3225 - sparse_categorical_accuracy: 0.8812\n",
      "Epoch 5/30\n",
      "1875/1875 [==============================] - 2s 1ms/step - loss: 0.3057 - sparse_categorical_accuracy: 0.8870\n",
      "Epoch 6/30\n",
      "1875/1875 [==============================] - 2s 946us/step - loss: 0.2917 - sparse_categorical_accuracy: 0.8911\n",
      "Epoch 7/30\n",
      "1875/1875 [==============================] - 2s 954us/step - loss: 0.2794 - sparse_categorical_accuracy: 0.8948\n",
      "Epoch 8/30\n",
      "1875/1875 [==============================] - 2s 1ms/step - loss: 0.2693 - sparse_categorical_accuracy: 0.8990\n",
      "Epoch 9/30\n",
      "1875/1875 [==============================] - 2s 962us/step - loss: 0.2605 - sparse_categorical_accuracy: 0.9021\n",
      "Epoch 10/30\n",
      "1875/1875 [==============================] - 2s 1ms/step - loss: 0.2528 - sparse_categorical_accuracy: 0.9040\n",
      "Epoch 11/30\n",
      "1875/1875 [==============================] - 2s 926us/step - loss: 0.2435 - sparse_categorical_accuracy: 0.9089\n",
      "Epoch 12/30\n",
      "1875/1875 [==============================] - 2s 909us/step - loss: 0.2384 - sparse_categorical_accuracy: 0.9096\n",
      "Epoch 13/30\n",
      "1875/1875 [==============================] - 2s 937us/step - loss: 0.2308 - sparse_categorical_accuracy: 0.9129\n",
      "Epoch 14/30\n",
      "1875/1875 [==============================] - 2s 963us/step - loss: 0.2251 - sparse_categorical_accuracy: 0.9154\n",
      "Epoch 15/30\n",
      "1875/1875 [==============================] - 2s 1ms/step - loss: 0.2196 - sparse_categorical_accuracy: 0.9166\n",
      "Epoch 16/30\n",
      "1875/1875 [==============================] - 2s 1ms/step - loss: 0.2160 - sparse_categorical_accuracy: 0.9183\n",
      "Epoch 17/30\n",
      "1875/1875 [==============================] - 2s 1ms/step - loss: 0.2128 - sparse_categorical_accuracy: 0.9196\n",
      "Epoch 18/30\n",
      "1875/1875 [==============================] - 2s 917us/step - loss: 0.2080 - sparse_categorical_accuracy: 0.9207\n",
      "Epoch 19/30\n",
      "1875/1875 [==============================] - 2s 926us/step - loss: 0.2009 - sparse_categorical_accuracy: 0.9237\n",
      "Epoch 20/30\n",
      "1875/1875 [==============================] - 2s 1ms/step - loss: 0.1984 - sparse_categorical_accuracy: 0.9246\n",
      "Epoch 21/30\n",
      "1875/1875 [==============================] - 2s 991us/step - loss: 0.1909 - sparse_categorical_accuracy: 0.9272\n",
      "Epoch 22/30\n",
      "1875/1875 [==============================] - 2s 1ms/step - loss: 0.1902 - sparse_categorical_accuracy: 0.9282\n",
      "Epoch 23/30\n",
      "1875/1875 [==============================] - 2s 1ms/step - loss: 0.1859 - sparse_categorical_accuracy: 0.9294\n",
      "Epoch 24/30\n",
      "1875/1875 [==============================] - 2s 1ms/step - loss: 0.1828 - sparse_categorical_accuracy: 0.9302\n",
      "Epoch 25/30\n",
      "1875/1875 [==============================] - 2s 974us/step - loss: 0.1818 - sparse_categorical_accuracy: 0.9306\n",
      "Epoch 26/30\n",
      "1875/1875 [==============================] - 2s 1ms/step - loss: 0.1760 - sparse_categorical_accuracy: 0.9324\n",
      "Epoch 27/30\n",
      "1875/1875 [==============================] - 2s 959us/step - loss: 0.1748 - sparse_categorical_accuracy: 0.9341\n",
      "Epoch 28/30\n",
      "1875/1875 [==============================] - 2s 921us/step - loss: 0.1697 - sparse_categorical_accuracy: 0.9355\n",
      "Epoch 29/30\n",
      "1875/1875 [==============================] - 2s 971us/step - loss: 0.1672 - sparse_categorical_accuracy: 0.9366\n",
      "Epoch 30/30\n",
      "1875/1875 [==============================] - 2s 1ms/step - loss: 0.1658 - sparse_categorical_accuracy: 0.9364\n"
     ]
    },
    {
     "data": {
      "text/plain": [
       "<tensorflow.python.keras.callbacks.History at 0x1c8e2ba63d0>"
      ]
     },
     "execution_count": 6,
     "metadata": {},
     "output_type": "execute_result"
    }
   ],
   "source": [
    "model.fit(train_images, train_labels, epochs=30)\n"
   ]
  },
  {
   "cell_type": "code",
   "execution_count": 7,
   "id": "dc696c6f",
   "metadata": {},
   "outputs": [
    {
     "name": "stdout",
     "output_type": "stream",
     "text": [
      "313/313 - 0s - loss: 0.3981 - sparse_categorical_accuracy: 0.8862\n"
     ]
    }
   ],
   "source": [
    "test_loss, test_acc = model.evaluate(test_images,  test_labels, verbose=2)\n"
   ]
  },
  {
   "cell_type": "code",
   "execution_count": null,
   "id": "6c6adcf4",
   "metadata": {},
   "outputs": [],
   "source": []
  }
 ],
 "metadata": {
  "kernelspec": {
   "display_name": "Python 3",
   "language": "python",
   "name": "python3"
  },
  "language_info": {
   "codemirror_mode": {
    "name": "ipython",
    "version": 3
   },
   "file_extension": ".py",
   "mimetype": "text/x-python",
   "name": "python",
   "nbconvert_exporter": "python",
   "pygments_lexer": "ipython3",
   "version": "3.8.8"
  }
 },
 "nbformat": 4,
 "nbformat_minor": 5
}
